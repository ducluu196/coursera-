{
  "nbformat": 4,
  "nbformat_minor": 0,
  "metadata": {
    "colab": {
      "name": "laptop price predictor.ipynb",
      "provenance": [],
      "collapsed_sections": [],
      "authorship_tag": "ABX9TyPqxR7JuI9Lp8xaCBHut2j3",
      "include_colab_link": true
    },
    "kernelspec": {
      "name": "python3",
      "display_name": "Python 3"
    }
  },
  "cells": [
    {
      "cell_type": "markdown",
      "metadata": {
        "id": "view-in-github",
        "colab_type": "text"
      },
      "source": [
        "<a href=\"https://colab.research.google.com/github/ducluu196/coursera-/blob/master/laptop_price_predictor_revisit.ipynb\" target=\"_parent\"><img src=\"https://colab.research.google.com/assets/colab-badge.svg\" alt=\"Open In Colab\"/></a>"
      ]
    },
    {
      "cell_type": "code",
      "metadata": {
        "id": "BYy-q41WDIfV",
        "colab_type": "code",
        "colab": {}
      },
      "source": [
        "import numpy as np\n",
        "import pandas as pd\n",
        "import matplotlib.pyplot as plt\n",
        "import seaborn as sns"
      ],
      "execution_count": 82,
      "outputs": []
    },
    {
      "cell_type": "code",
      "metadata": {
        "id": "i1l13ZLTDNFl",
        "colab_type": "code",
        "colab": {
          "base_uri": "https://localhost:8080/",
          "height": 342
        },
        "outputId": "cba81133-9a87-4447-dccf-f0af988d5846"
      },
      "source": [
        "URL= 'https://raw.githubusercontent.com/ducluu196/coursera-/master/laptops.csv'\n",
        "df = pd.read_csv(URL,  encoding='latin-1')\n",
        "df.info()"
      ],
      "execution_count": 130,
      "outputs": [
        {
          "output_type": "stream",
          "text": [
            "<class 'pandas.core.frame.DataFrame'>\n",
            "RangeIndex: 1303 entries, 0 to 1302\n",
            "Data columns (total 13 columns):\n",
            " #   Column            Non-Null Count  Dtype  \n",
            "---  ------            --------------  -----  \n",
            " 0   Unnamed: 0        1303 non-null   int64  \n",
            " 1   Company           1303 non-null   object \n",
            " 2   Product           1303 non-null   object \n",
            " 3   TypeName          1303 non-null   object \n",
            " 4   Inches            1303 non-null   float64\n",
            " 5   ScreenResolution  1303 non-null   object \n",
            " 6   Cpu               1303 non-null   object \n",
            " 7   Ram               1303 non-null   object \n",
            " 8   Memory            1303 non-null   object \n",
            " 9   Gpu               1303 non-null   object \n",
            " 10  OpSys             1303 non-null   object \n",
            " 11  Weight            1303 non-null   object \n",
            " 12  Price_euros       1303 non-null   float64\n",
            "dtypes: float64(2), int64(1), object(10)\n",
            "memory usage: 132.5+ KB\n"
          ],
          "name": "stdout"
        }
      ]
    },
    {
      "cell_type": "code",
      "metadata": {
        "id": "coZQAZM1wtGr",
        "colab_type": "code",
        "colab": {
          "base_uri": "https://localhost:8080/",
          "height": 570
        },
        "outputId": "8b801f20-5dd7-4c8f-efd4-84fee664c9e8"
      },
      "source": [
        "df"
      ],
      "execution_count": 84,
      "outputs": [
        {
          "output_type": "execute_result",
          "data": {
            "text/html": [
              "<div>\n",
              "<style scoped>\n",
              "    .dataframe tbody tr th:only-of-type {\n",
              "        vertical-align: middle;\n",
              "    }\n",
              "\n",
              "    .dataframe tbody tr th {\n",
              "        vertical-align: top;\n",
              "    }\n",
              "\n",
              "    .dataframe thead th {\n",
              "        text-align: right;\n",
              "    }\n",
              "</style>\n",
              "<table border=\"1\" class=\"dataframe\">\n",
              "  <thead>\n",
              "    <tr style=\"text-align: right;\">\n",
              "      <th></th>\n",
              "      <th>Unnamed: 0</th>\n",
              "      <th>Company</th>\n",
              "      <th>Product</th>\n",
              "      <th>TypeName</th>\n",
              "      <th>Inches</th>\n",
              "      <th>ScreenResolution</th>\n",
              "      <th>Cpu</th>\n",
              "      <th>Ram</th>\n",
              "      <th>Memory</th>\n",
              "      <th>Gpu</th>\n",
              "      <th>OpSys</th>\n",
              "      <th>Weight</th>\n",
              "      <th>Price_euros</th>\n",
              "    </tr>\n",
              "  </thead>\n",
              "  <tbody>\n",
              "    <tr>\n",
              "      <th>0</th>\n",
              "      <td>1</td>\n",
              "      <td>Apple</td>\n",
              "      <td>MacBook Pro</td>\n",
              "      <td>Ultrabook</td>\n",
              "      <td>13.3</td>\n",
              "      <td>IPS Panel Retina Display 2560x1600</td>\n",
              "      <td>Intel Core i5 2.3GHz</td>\n",
              "      <td>8GB</td>\n",
              "      <td>128GB SSD</td>\n",
              "      <td>Intel Iris Plus Graphics 640</td>\n",
              "      <td>macOS</td>\n",
              "      <td>1.37kg</td>\n",
              "      <td>1339.69</td>\n",
              "    </tr>\n",
              "    <tr>\n",
              "      <th>1</th>\n",
              "      <td>2</td>\n",
              "      <td>Apple</td>\n",
              "      <td>Macbook Air</td>\n",
              "      <td>Ultrabook</td>\n",
              "      <td>13.3</td>\n",
              "      <td>1440x900</td>\n",
              "      <td>Intel Core i5 1.8GHz</td>\n",
              "      <td>8GB</td>\n",
              "      <td>128GB Flash Storage</td>\n",
              "      <td>Intel HD Graphics 6000</td>\n",
              "      <td>macOS</td>\n",
              "      <td>1.34kg</td>\n",
              "      <td>898.94</td>\n",
              "    </tr>\n",
              "    <tr>\n",
              "      <th>2</th>\n",
              "      <td>3</td>\n",
              "      <td>HP</td>\n",
              "      <td>250 G6</td>\n",
              "      <td>Notebook</td>\n",
              "      <td>15.6</td>\n",
              "      <td>Full HD 1920x1080</td>\n",
              "      <td>Intel Core i5 7200U 2.5GHz</td>\n",
              "      <td>8GB</td>\n",
              "      <td>256GB SSD</td>\n",
              "      <td>Intel HD Graphics 620</td>\n",
              "      <td>No OS</td>\n",
              "      <td>1.86kg</td>\n",
              "      <td>575.00</td>\n",
              "    </tr>\n",
              "    <tr>\n",
              "      <th>3</th>\n",
              "      <td>4</td>\n",
              "      <td>Apple</td>\n",
              "      <td>MacBook Pro</td>\n",
              "      <td>Ultrabook</td>\n",
              "      <td>15.4</td>\n",
              "      <td>IPS Panel Retina Display 2880x1800</td>\n",
              "      <td>Intel Core i7 2.7GHz</td>\n",
              "      <td>16GB</td>\n",
              "      <td>512GB SSD</td>\n",
              "      <td>AMD Radeon Pro 455</td>\n",
              "      <td>macOS</td>\n",
              "      <td>1.83kg</td>\n",
              "      <td>2537.45</td>\n",
              "    </tr>\n",
              "    <tr>\n",
              "      <th>4</th>\n",
              "      <td>5</td>\n",
              "      <td>Apple</td>\n",
              "      <td>MacBook Pro</td>\n",
              "      <td>Ultrabook</td>\n",
              "      <td>13.3</td>\n",
              "      <td>IPS Panel Retina Display 2560x1600</td>\n",
              "      <td>Intel Core i5 3.1GHz</td>\n",
              "      <td>8GB</td>\n",
              "      <td>256GB SSD</td>\n",
              "      <td>Intel Iris Plus Graphics 650</td>\n",
              "      <td>macOS</td>\n",
              "      <td>1.37kg</td>\n",
              "      <td>1803.60</td>\n",
              "    </tr>\n",
              "    <tr>\n",
              "      <th>...</th>\n",
              "      <td>...</td>\n",
              "      <td>...</td>\n",
              "      <td>...</td>\n",
              "      <td>...</td>\n",
              "      <td>...</td>\n",
              "      <td>...</td>\n",
              "      <td>...</td>\n",
              "      <td>...</td>\n",
              "      <td>...</td>\n",
              "      <td>...</td>\n",
              "      <td>...</td>\n",
              "      <td>...</td>\n",
              "      <td>...</td>\n",
              "    </tr>\n",
              "    <tr>\n",
              "      <th>1298</th>\n",
              "      <td>1316</td>\n",
              "      <td>Lenovo</td>\n",
              "      <td>Yoga 500-14ISK</td>\n",
              "      <td>2 in 1 Convertible</td>\n",
              "      <td>14.0</td>\n",
              "      <td>IPS Panel Full HD / Touchscreen 1920x1080</td>\n",
              "      <td>Intel Core i7 6500U 2.5GHz</td>\n",
              "      <td>4GB</td>\n",
              "      <td>128GB SSD</td>\n",
              "      <td>Intel HD Graphics 520</td>\n",
              "      <td>Windows 10</td>\n",
              "      <td>1.8kg</td>\n",
              "      <td>638.00</td>\n",
              "    </tr>\n",
              "    <tr>\n",
              "      <th>1299</th>\n",
              "      <td>1317</td>\n",
              "      <td>Lenovo</td>\n",
              "      <td>Yoga 900-13ISK</td>\n",
              "      <td>2 in 1 Convertible</td>\n",
              "      <td>13.3</td>\n",
              "      <td>IPS Panel Quad HD+ / Touchscreen 3200x1800</td>\n",
              "      <td>Intel Core i7 6500U 2.5GHz</td>\n",
              "      <td>16GB</td>\n",
              "      <td>512GB SSD</td>\n",
              "      <td>Intel HD Graphics 520</td>\n",
              "      <td>Windows 10</td>\n",
              "      <td>1.3kg</td>\n",
              "      <td>1499.00</td>\n",
              "    </tr>\n",
              "    <tr>\n",
              "      <th>1300</th>\n",
              "      <td>1318</td>\n",
              "      <td>Lenovo</td>\n",
              "      <td>IdeaPad 100S-14IBR</td>\n",
              "      <td>Notebook</td>\n",
              "      <td>14.0</td>\n",
              "      <td>1366x768</td>\n",
              "      <td>Intel Celeron Dual Core N3050 1.6GHz</td>\n",
              "      <td>2GB</td>\n",
              "      <td>64GB Flash Storage</td>\n",
              "      <td>Intel HD Graphics</td>\n",
              "      <td>Windows 10</td>\n",
              "      <td>1.5kg</td>\n",
              "      <td>229.00</td>\n",
              "    </tr>\n",
              "    <tr>\n",
              "      <th>1301</th>\n",
              "      <td>1319</td>\n",
              "      <td>HP</td>\n",
              "      <td>15-AC110nv (i7-6500U/6GB/1TB/Radeon</td>\n",
              "      <td>Notebook</td>\n",
              "      <td>15.6</td>\n",
              "      <td>1366x768</td>\n",
              "      <td>Intel Core i7 6500U 2.5GHz</td>\n",
              "      <td>6GB</td>\n",
              "      <td>1TB HDD</td>\n",
              "      <td>AMD Radeon R5 M330</td>\n",
              "      <td>Windows 10</td>\n",
              "      <td>2.19kg</td>\n",
              "      <td>764.00</td>\n",
              "    </tr>\n",
              "    <tr>\n",
              "      <th>1302</th>\n",
              "      <td>1320</td>\n",
              "      <td>Asus</td>\n",
              "      <td>X553SA-XX031T (N3050/4GB/500GB/W10)</td>\n",
              "      <td>Notebook</td>\n",
              "      <td>15.6</td>\n",
              "      <td>1366x768</td>\n",
              "      <td>Intel Celeron Dual Core N3050 1.6GHz</td>\n",
              "      <td>4GB</td>\n",
              "      <td>500GB HDD</td>\n",
              "      <td>Intel HD Graphics</td>\n",
              "      <td>Windows 10</td>\n",
              "      <td>2.2kg</td>\n",
              "      <td>369.00</td>\n",
              "    </tr>\n",
              "  </tbody>\n",
              "</table>\n",
              "<p>1303 rows × 13 columns</p>\n",
              "</div>"
            ],
            "text/plain": [
              "      Unnamed: 0 Company  ...  Weight Price_euros\n",
              "0              1   Apple  ...  1.37kg     1339.69\n",
              "1              2   Apple  ...  1.34kg      898.94\n",
              "2              3      HP  ...  1.86kg      575.00\n",
              "3              4   Apple  ...  1.83kg     2537.45\n",
              "4              5   Apple  ...  1.37kg     1803.60\n",
              "...          ...     ...  ...     ...         ...\n",
              "1298        1316  Lenovo  ...   1.8kg      638.00\n",
              "1299        1317  Lenovo  ...   1.3kg     1499.00\n",
              "1300        1318  Lenovo  ...   1.5kg      229.00\n",
              "1301        1319      HP  ...  2.19kg      764.00\n",
              "1302        1320    Asus  ...   2.2kg      369.00\n",
              "\n",
              "[1303 rows x 13 columns]"
            ]
          },
          "metadata": {
            "tags": []
          },
          "execution_count": 84
        }
      ]
    },
    {
      "cell_type": "code",
      "metadata": {
        "id": "IcA4n50LEZNy",
        "colab_type": "code",
        "colab": {}
      },
      "source": [
        "#drop unessccessary index collum\n",
        "df = df.drop(['Unnamed: 0'], axis =1 )"
      ],
      "execution_count": 131,
      "outputs": []
    },
    {
      "cell_type": "code",
      "metadata": {
        "id": "s_9g2iS_b4Ke",
        "colab_type": "code",
        "colab": {
          "base_uri": "https://localhost:8080/",
          "height": 212
        },
        "outputId": "3c2ce35d-f42b-41e9-ca84-a45449d8049a"
      },
      "source": [
        "df.ScreenResolution.unique"
      ],
      "execution_count": 86,
      "outputs": [
        {
          "output_type": "execute_result",
          "data": {
            "text/plain": [
              "<bound method Series.unique of 0               IPS Panel Retina Display 2560x1600\n",
              "1                                         1440x900\n",
              "2                                Full HD 1920x1080\n",
              "3               IPS Panel Retina Display 2880x1800\n",
              "4               IPS Panel Retina Display 2560x1600\n",
              "                           ...                    \n",
              "1298     IPS Panel Full HD / Touchscreen 1920x1080\n",
              "1299    IPS Panel Quad HD+ / Touchscreen 3200x1800\n",
              "1300                                      1366x768\n",
              "1301                                      1366x768\n",
              "1302                                      1366x768\n",
              "Name: ScreenResolution, Length: 1303, dtype: object>"
            ]
          },
          "metadata": {
            "tags": []
          },
          "execution_count": 86
        }
      ]
    },
    {
      "cell_type": "code",
      "metadata": {
        "id": "MQShlPdYIaCY",
        "colab_type": "code",
        "colab": {
          "base_uri": "https://localhost:8080/",
          "height": 66
        },
        "outputId": "5d346207-32a5-4983-83cd-92460a8b483c"
      },
      "source": [
        "# screen resolution are the 9 digit of the screen resolution column\n",
        "#however some screen resolution only contain 8 digits like 1366x768 there will be an emty space, pd.strip() is use to remove the space\n",
        "df['resolution'] = df['ScreenResolution'].str[-9:]\n",
        "df['resolution']= df['resolution'].str.strip()\n",
        "#atempt to covert resolution into numeric by covert it to n*n value\n",
        "df['resolution1'] = df['resolution'].str.split('x').str[0].astype(int)\n",
        "df['resolution2'] = df['resolution'].str.split('x').str[1].astype(int)\n",
        "df['resolution'] = df['resolution1'] * df['resolution2']\n",
        "df['resolution'].unique()"
      ],
      "execution_count": 132,
      "outputs": [
        {
          "output_type": "execute_result",
          "data": {
            "text/plain": [
              "array([4096000, 1296000, 2073600, 5184000, 1049088, 3317760, 5760000,\n",
              "       2304000, 3393024, 8294400, 3110400, 3686400, 1440000, 4990464,\n",
              "       3840000])"
            ]
          },
          "metadata": {
            "tags": []
          },
          "execution_count": 132
        }
      ]
    },
    {
      "cell_type": "code",
      "metadata": {
        "id": "Al_u-28UbfiL",
        "colab_type": "code",
        "colab": {}
      },
      "source": [
        "#I realized that some screen model can feature both IPS and touch screen \n",
        "df['IPS'] = np.where(df['ScreenResolution'].str.contains(\"IPS\"), 1,  0 )"
      ],
      "execution_count": 133,
      "outputs": []
    },
    {
      "cell_type": "code",
      "metadata": {
        "id": "0-cxPu7lGAg9",
        "colab_type": "code",
        "colab": {
          "base_uri": "https://localhost:8080/",
          "height": 245
        },
        "outputId": "84b611d1-9aa2-4294-b2a7-cdf3ede4d126"
      },
      "source": [
        "#isolate touch screena as it a unique feature which could affect laptop price\n",
        "df['TouchScreen'] = np.where(df['ScreenResolution'].str.contains(\"Touchscreen\"), 1 , 0 )\n",
        "print(df[['IPS','TouchScreen']])\n",
        "\n"
      ],
      "execution_count": 134,
      "outputs": [
        {
          "output_type": "stream",
          "text": [
            "      IPS  TouchScreen\n",
            "0       1            0\n",
            "1       0            0\n",
            "2       0            0\n",
            "3       1            0\n",
            "4       1            0\n",
            "...   ...          ...\n",
            "1298    1            1\n",
            "1299    1            1\n",
            "1300    0            0\n",
            "1301    0            0\n",
            "1302    0            0\n",
            "\n",
            "[1303 rows x 2 columns]\n"
          ],
          "name": "stdout"
        }
      ]
    },
    {
      "cell_type": "code",
      "metadata": {
        "id": "EMIgpMLXIk0c",
        "colab_type": "code",
        "colab": {}
      },
      "source": [
        "df.Cpu.unique()\n",
        "#As we can see there are quite a wide varaiety of CPU in the column which could be categorized into futher detail\n",
        "## challege facing: case mismath, \n",
        "### many core i series has no generation marker which would cause some confusion\n",
        "### AMD cpu can not just categorize by extract the first couple digit like intel core series cpu\n",
        "### intel cpu also contain many "
      ],
      "execution_count": null,
      "outputs": []
    },
    {
      "cell_type": "code",
      "metadata": {
        "id": "lgmL-vn5yWQW",
        "colab_type": "code",
        "colab": {
          "base_uri": "https://localhost:8080/",
          "height": 245
        },
        "outputId": "14134626-f7be-4fc0-ab05-d07ff69ed68e"
      },
      "source": [
        "AMD = df[df.Cpu.str.contains(\"AMD\")]\n",
        "AMD.Cpu.unique()\n",
        "#AMD has quite a few varaiety in CPU class A4, A6, A9, A10, A12, E-series, Fx, Ryzen (there does seem to more than 1 ryzen class)"
      ],
      "execution_count": 91,
      "outputs": [
        {
          "output_type": "execute_result",
          "data": {
            "text/plain": [
              "array(['AMD A9-Series 9420 3GHz', 'AMD E-Series E2-9000e 1.5GHz',\n",
              "       'AMD E-Series E2-6110 1.5GHz', 'AMD A6-Series 9220 2.5GHz',\n",
              "       'AMD Ryzen 1700 3GHz', 'AMD FX 9830P 3GHz',\n",
              "       'AMD E-Series 6110 1.5GHz', 'AMD A6-Series 9220 2.9GHz',\n",
              "       'AMD E-Series 9000e 1.5GHz', 'AMD A10-Series A10-9620P 2.5GHz',\n",
              "       'AMD A6-Series A6-9220 2.5GHz', 'AMD A10-Series 9600P 2.4GHz',\n",
              "       'AMD A8-Series 7410 2.2GHz', 'AMD A12-Series 9720P 2.7GHz',\n",
              "       'AMD A12-Series 9720P 3.6GHz', 'AMD Ryzen 1600 3.2GHz',\n",
              "       'AMD A10-Series 9620P 2.5GHz', 'AMD E-Series 7110 1.8GHz',\n",
              "       'AMD A9-Series A9-9420 3GHz', 'AMD E-Series E2-9000 2.2GHz',\n",
              "       'AMD A9-Series 9420 2.9GHz', 'AMD A6-Series 7310 2GHz',\n",
              "       'AMD A12-Series 9700P 2.5GHz', 'AMD A4-Series 7210 2.2GHz',\n",
              "       'AMD FX 8800P 2.1GHz', 'AMD E-Series 9000 2.2GHz',\n",
              "       'AMD A9-Series 9410 2.9GHz'], dtype=object)"
            ]
          },
          "metadata": {
            "tags": []
          },
          "execution_count": 91
        }
      ]
    },
    {
      "cell_type": "code",
      "metadata": {
        "id": "HhZx0Wl6wNxm",
        "colab_type": "code",
        "colab": {}
      },
      "source": [
        "intel = df[df.Cpu.str.contains(\"Intel\")]\n",
        "intel.Cpu.unique()"
      ],
      "execution_count": null,
      "outputs": []
    },
    {
      "cell_type": "code",
      "metadata": {
        "id": "OG6w_rDa0-fJ",
        "colab_type": "code",
        "colab": {
          "base_uri": "https://localhost:8080/",
          "height": 342
        },
        "outputId": "1cd3d440-646a-4ea0-874c-af4a224b041a"
      },
      "source": [
        "#investigate intel processor that not in the core i series\n",
        "intelm = df[df.Cpu.str.contains(\"Intel Core M\")]\n",
        "intelm.Cpu.unique\n",
        "#core m just like core i series which has 3 class m3 m5 m7, in some of the value below, there are no specification on which core m is it\n",
        "#One thing that can be notice is that the clock speed of each core m corresponded to the the class \n"
      ],
      "execution_count": 93,
      "outputs": [
        {
          "output_type": "execute_result",
          "data": {
            "text/plain": [
              "<bound method Series.unique of 14           Intel Core M m3 1.2GHz\n",
              "146        Intel Core M 6Y75 1.2GHz\n",
              "457     Intel Core M m3-7Y30 2.2GHz\n",
              "562        Intel Core M 6Y75 1.2GHz\n",
              "592        Intel Core M 7Y30 1.0GHz\n",
              "697     Intel Core M M3-6Y30 0.9GHz\n",
              "794             Intel Core M 1.2GHz\n",
              "911        Intel Core M 6Y75 1.2GHz\n",
              "944     Intel Core M m7-6Y75 1.2GHz\n",
              "953     Intel Core M M7-6Y75 1.2GHz\n",
              "990        Intel Core M 6Y75 1.2GHz\n",
              "1069            Intel Core M 1.1GHz\n",
              "1080       Intel Core M 6Y75 1.2GHz\n",
              "1110       Intel Core M 6Y54 1.1GHz\n",
              "1193            Intel Core M 1.1GHz\n",
              "1210            Intel Core M 1.2GHz\n",
              "1261       Intel Core M 6Y30 0.9GHz\n",
              "1275       Intel Core M 6Y30 0.9GHz\n",
              "1289       Intel Core M 6Y30 0.9GHz\n",
              "Name: Cpu, dtype: object>"
            ]
          },
          "metadata": {
            "tags": []
          },
          "execution_count": 93
        }
      ]
    },
    {
      "cell_type": "code",
      "metadata": {
        "id": "8HN6CkLz0ng1",
        "colab_type": "code",
        "colab": {
          "base_uri": "https://localhost:8080/",
          "height": 212
        },
        "outputId": "da4dacce-0745-4324-9f0d-b6bc5d483848"
      },
      "source": [
        "#investigate intel core i series\n",
        "inteli = df[df.Cpu.str.contains(\"Intel Core i\")]\n",
        "inteli.Cpu.unique\n",
        "# we can clearly identify i3 from i5 from i7"
      ],
      "execution_count": 94,
      "outputs": [
        {
          "output_type": "execute_result",
          "data": {
            "text/plain": [
              "<bound method Series.unique of 0             Intel Core i5 2.3GHz\n",
              "1             Intel Core i5 1.8GHz\n",
              "2       Intel Core i5 7200U 2.5GHz\n",
              "3             Intel Core i7 2.7GHz\n",
              "4             Intel Core i5 3.1GHz\n",
              "                   ...            \n",
              "1295    Intel Core i7 7500U 2.7GHz\n",
              "1297    Intel Core i7 6500U 2.5GHz\n",
              "1298    Intel Core i7 6500U 2.5GHz\n",
              "1299    Intel Core i7 6500U 2.5GHz\n",
              "1301    Intel Core i7 6500U 2.5GHz\n",
              "Name: Cpu, Length: 1086, dtype: object>"
            ]
          },
          "metadata": {
            "tags": []
          },
          "execution_count": 94
        }
      ]
    },
    {
      "cell_type": "code",
      "metadata": {
        "id": "WqxLKdbnBoyR",
        "colab_type": "code",
        "colab": {
          "base_uri": "https://localhost:8080/",
          "height": 423
        },
        "outputId": "533ae165-9852-4500-ce13-4bdc27bc3333"
      },
      "source": [
        "intel1 = intel[~intel.Cpu.str.contains(\"Intel Core i\")]\n",
        "intel2 = intel1[~intel.Cpu.str.contains(\"Intel Core M\")]\n",
        "intel2.Cpu.unique()\n",
        "# there are couple identifable in this case like Atom, Pentium, Celeron and Xeon"
      ],
      "execution_count": 95,
      "outputs": [
        {
          "output_type": "stream",
          "text": [
            "/usr/local/lib/python3.6/dist-packages/ipykernel_launcher.py:2: UserWarning: Boolean Series key will be reindexed to match DataFrame index.\n",
            "  \n"
          ],
          "name": "stderr"
        },
        {
          "output_type": "execute_result",
          "data": {
            "text/plain": [
              "array(['Intel Atom x5-Z8350 1.44GHz', 'Intel Atom x5-Z8300 1.44GHz',\n",
              "       'Intel Celeron Dual Core N3350 1.1GHz',\n",
              "       'Intel Pentium Quad Core N4200 1.1GHz',\n",
              "       'Intel Atom x5-Z8550 1.44GHz',\n",
              "       'Intel Celeron Dual Core N3060 1.6GHz',\n",
              "       'Intel Xeon E3-1505M V6 3GHz',\n",
              "       'Intel Celeron Dual Core 3205U 1.5GHz',\n",
              "       'Intel Celeron Dual Core 3855U 1.6GHz',\n",
              "       'Intel Pentium Quad Core N3710 1.6GHz',\n",
              "       'Intel Celeron Quad Core N3450 1.1GHz',\n",
              "       'Intel Celeron Dual Core N3060 1.60GHz',\n",
              "       'Intel Celeron Dual Core N3350 2.0GHz',\n",
              "       'Intel Xeon E3-1535M v6 3.1GHz',\n",
              "       'Intel Celeron Quad Core N3160 1.6GHz',\n",
              "       'Intel Celeron Dual Core N3050 1.6GHz', 'Intel Atom Z8350 1.92GHz',\n",
              "       'Intel Xeon E3-1535M v5 2.9GHz',\n",
              "       'Intel Pentium Dual Core N4200 1.1GHz',\n",
              "       'Intel Celeron Quad Core N3710 1.6GHz',\n",
              "       'Intel Pentium Dual Core 4405U 2.1GHz',\n",
              "       'Intel Atom X5-Z8350 1.44GHz',\n",
              "       'Intel Pentium Dual Core 4405Y 1.5GHz',\n",
              "       'Intel Pentium Quad Core N3700 1.6GHz',\n",
              "       'Intel Celeron Dual Core N3350 2GHz'], dtype=object)"
            ]
          },
          "metadata": {
            "tags": []
          },
          "execution_count": 95
        }
      ]
    },
    {
      "cell_type": "code",
      "metadata": {
        "id": "jpAXQ7BtDcU_",
        "colab_type": "code",
        "colab": {
          "base_uri": "https://localhost:8080/",
          "height": 50
        },
        "outputId": "be0b49a5-0193-4491-bbfe-4f667680a7d5"
      },
      "source": [
        "#there should be other type of cpu other than intel and AMA\n",
        "other1 = df[~df.Cpu.str.contains(\"Intel\")]\n",
        "other = other1[~other1.Cpu.str.contains(\"AMD\")]\n",
        "other.Cpu\n",
        "#this value can be count as an outlier"
      ],
      "execution_count": 96,
      "outputs": [
        {
          "output_type": "execute_result",
          "data": {
            "text/plain": [
              "1191    Samsung Cortex A72&A53 2.0GHz\n",
              "Name: Cpu, dtype: object"
            ]
          },
          "metadata": {
            "tags": []
          },
          "execution_count": 96
        }
      ]
    },
    {
      "cell_type": "code",
      "metadata": {
        "id": "IhoHrgvk-6jL",
        "colab_type": "code",
        "colab": {}
      },
      "source": [
        "cond1 = df['Cpu'].str.contains(\"AMD A4\")\n",
        "cond2 = df['Cpu'].str.contains(\"AMD A6\")\n",
        "cond3 = df['Cpu'].str.contains(\"AMD A8\")\n",
        "cond4 = df['Cpu'].str.contains(\"AMD A9\")\n",
        "cond5 = df['Cpu'].str.contains(\"AMD A10\")\n",
        "cond6 = df['Cpu'].str.contains(\"AMD A12\")\n",
        "cond7 = df['Cpu'].str.contains(\"AMD E-Series\")\n",
        "cond8 = df['Cpu'].str.contains(\"AMD FX\")\n",
        "cond9 = df['Cpu'].str.contains(\"Ryzen\")\n",
        "cond10 = df['Cpu'].str.contains(\"1.2GHz\")\n",
        "cond11 = df['Cpu'].str.contains(\"1.1GHz\")\n",
        "cond12 = df['Cpu'].str.contains(\"0.9GHz\")\n",
        "cond13 = df['Cpu'].str.contains(\"Intel Core M m3\")\n",
        "cond14 = df['Cpu'].str.contains(\"Intel Core i3\")\n",
        "cond15 = df['Cpu'].str.contains(\"Intel Core i5\")\n",
        "cond16 = df['Cpu'].str.contains(\"Intel Core i7\")\n",
        "cond17 = df['Cpu'].str.contains(\"Intel Celeron\")\n",
        "cond18 = df['Cpu'].str.contains(\"Intel Atom\")\n",
        "cond19 = df['Cpu'].str.contains(\"Intel Pentium\")\n",
        "cond20 = df['Cpu'].str.contains(\"Intel Xeon\")\n",
        "\n"
      ],
      "execution_count": 135,
      "outputs": []
    },
    {
      "cell_type": "code",
      "metadata": {
        "id": "SQMRshvFOK_S",
        "colab_type": "code",
        "colab": {}
      },
      "source": [
        "df['CPU'] = np.where(cond1, 'AMD A4',\n",
        "                np.where(cond2, 'AMD A6',\n",
        "                np.where(cond3, 'AMD A8', \n",
        "                np.where(cond4, 'AMD A9',\n",
        "                np.where(cond5, 'AMD A10', \n",
        "                np.where(cond6, 'AMD A12', \n",
        "                np.where(cond7, 'AMD E-Series', \n",
        "                np.where(cond8, 'AMD FX', \n",
        "                np.where(cond9, 'AMD Ryzen', \n",
        "                np.where(cond10, 'Intel Core m7', \n",
        "                np.where(cond11, 'Intel Core m5', \n",
        "                np.where(cond12, 'Intel Core m3', \n",
        "                np.where(cond13, 'Intel Core m3', \n",
        "                np.where(cond14, 'Intel Core i3',\n",
        "                np.where(cond15, 'Intel Core i5',\n",
        "                np.where(cond16, 'Intel Core i7',\n",
        "                np.where(cond17, 'Intel Celeron' ,        \n",
        "                np.where(cond18, 'Intel Atom', \n",
        "                np.where(cond19, 'Intel Pentium', \n",
        "                np.where(cond20, 'Intel Xeon', 'other'))))))))))))))))))))"
      ],
      "execution_count": 136,
      "outputs": []
    },
    {
      "cell_type": "code",
      "metadata": {
        "id": "LE2kBoYVTiY8",
        "colab_type": "code",
        "colab": {
          "base_uri": "https://localhost:8080/",
          "height": 391
        },
        "outputId": "83550fe0-0434-4f9f-ce27-7b3c6a9e7af5"
      },
      "source": [
        "df[['Cpu','CPU']]"
      ],
      "execution_count": 98,
      "outputs": [
        {
          "output_type": "execute_result",
          "data": {
            "text/html": [
              "<div>\n",
              "<style scoped>\n",
              "    .dataframe tbody tr th:only-of-type {\n",
              "        vertical-align: middle;\n",
              "    }\n",
              "\n",
              "    .dataframe tbody tr th {\n",
              "        vertical-align: top;\n",
              "    }\n",
              "\n",
              "    .dataframe thead th {\n",
              "        text-align: right;\n",
              "    }\n",
              "</style>\n",
              "<table border=\"1\" class=\"dataframe\">\n",
              "  <thead>\n",
              "    <tr style=\"text-align: right;\">\n",
              "      <th></th>\n",
              "      <th>Cpu</th>\n",
              "      <th>CPU</th>\n",
              "    </tr>\n",
              "  </thead>\n",
              "  <tbody>\n",
              "    <tr>\n",
              "      <th>0</th>\n",
              "      <td>Intel Core i5 2.3GHz</td>\n",
              "      <td>Intel Core i5</td>\n",
              "    </tr>\n",
              "    <tr>\n",
              "      <th>1</th>\n",
              "      <td>Intel Core i5 1.8GHz</td>\n",
              "      <td>Intel Core i5</td>\n",
              "    </tr>\n",
              "    <tr>\n",
              "      <th>2</th>\n",
              "      <td>Intel Core i5 7200U 2.5GHz</td>\n",
              "      <td>Intel Core i5</td>\n",
              "    </tr>\n",
              "    <tr>\n",
              "      <th>3</th>\n",
              "      <td>Intel Core i7 2.7GHz</td>\n",
              "      <td>Intel Core i7</td>\n",
              "    </tr>\n",
              "    <tr>\n",
              "      <th>4</th>\n",
              "      <td>Intel Core i5 3.1GHz</td>\n",
              "      <td>Intel Core i5</td>\n",
              "    </tr>\n",
              "    <tr>\n",
              "      <th>...</th>\n",
              "      <td>...</td>\n",
              "      <td>...</td>\n",
              "    </tr>\n",
              "    <tr>\n",
              "      <th>1298</th>\n",
              "      <td>Intel Core i7 6500U 2.5GHz</td>\n",
              "      <td>Intel Core i7</td>\n",
              "    </tr>\n",
              "    <tr>\n",
              "      <th>1299</th>\n",
              "      <td>Intel Core i7 6500U 2.5GHz</td>\n",
              "      <td>Intel Core i7</td>\n",
              "    </tr>\n",
              "    <tr>\n",
              "      <th>1300</th>\n",
              "      <td>Intel Celeron Dual Core N3050 1.6GHz</td>\n",
              "      <td>Intel Celeron</td>\n",
              "    </tr>\n",
              "    <tr>\n",
              "      <th>1301</th>\n",
              "      <td>Intel Core i7 6500U 2.5GHz</td>\n",
              "      <td>Intel Core i7</td>\n",
              "    </tr>\n",
              "    <tr>\n",
              "      <th>1302</th>\n",
              "      <td>Intel Celeron Dual Core N3050 1.6GHz</td>\n",
              "      <td>Intel Celeron</td>\n",
              "    </tr>\n",
              "  </tbody>\n",
              "</table>\n",
              "<p>1303 rows × 2 columns</p>\n",
              "</div>"
            ],
            "text/plain": [
              "                                       Cpu            CPU\n",
              "0                     Intel Core i5 2.3GHz  Intel Core i5\n",
              "1                     Intel Core i5 1.8GHz  Intel Core i5\n",
              "2               Intel Core i5 7200U 2.5GHz  Intel Core i5\n",
              "3                     Intel Core i7 2.7GHz  Intel Core i7\n",
              "4                     Intel Core i5 3.1GHz  Intel Core i5\n",
              "...                                    ...            ...\n",
              "1298            Intel Core i7 6500U 2.5GHz  Intel Core i7\n",
              "1299            Intel Core i7 6500U 2.5GHz  Intel Core i7\n",
              "1300  Intel Celeron Dual Core N3050 1.6GHz  Intel Celeron\n",
              "1301            Intel Core i7 6500U 2.5GHz  Intel Core i7\n",
              "1302  Intel Celeron Dual Core N3050 1.6GHz  Intel Celeron\n",
              "\n",
              "[1303 rows x 2 columns]"
            ]
          },
          "metadata": {
            "tags": []
          },
          "execution_count": 98
        }
      ]
    },
    {
      "cell_type": "code",
      "metadata": {
        "id": "XJeGEdDzQYF5",
        "colab_type": "code",
        "colab": {
          "base_uri": "https://localhost:8080/",
          "height": 245
        },
        "outputId": "babc1fa4-628e-43b6-ad9e-1cea63fba62f"
      },
      "source": [
        "df['Memory'].unique()\n",
        "#there are feature that can be extract: type of the storage: SSD, HDD, Hybird, Flash. the numeric capacity of storage of each type and in some instance there are 2 storage"
      ],
      "execution_count": 137,
      "outputs": [
        {
          "output_type": "execute_result",
          "data": {
            "text/plain": [
              "array(['128GB SSD', '128GB Flash Storage', '256GB SSD', '512GB SSD',\n",
              "       '500GB HDD', '256GB Flash Storage', '1TB HDD',\n",
              "       '32GB Flash Storage', '128GB SSD +  1TB HDD',\n",
              "       '256GB SSD +  256GB SSD', '64GB Flash Storage',\n",
              "       '256GB SSD +  1TB HDD', '256GB SSD +  2TB HDD', '32GB SSD',\n",
              "       '2TB HDD', '64GB SSD', '1.0TB Hybrid', '512GB SSD +  1TB HDD',\n",
              "       '1TB SSD', '256GB SSD +  500GB HDD', '128GB SSD +  2TB HDD',\n",
              "       '512GB SSD +  512GB SSD', '16GB SSD', '16GB Flash Storage',\n",
              "       '512GB SSD +  256GB SSD', '512GB SSD +  2TB HDD',\n",
              "       '64GB Flash Storage +  1TB HDD', '180GB SSD', '1TB HDD +  1TB HDD',\n",
              "       '32GB HDD', '1TB SSD +  1TB HDD', '512GB Flash Storage',\n",
              "       '128GB HDD', '240GB SSD', '8GB SSD', '508GB Hybrid', '1.0TB HDD',\n",
              "       '512GB SSD +  1.0TB Hybrid', '256GB SSD +  1.0TB Hybrid'],\n",
              "      dtype=object)"
            ]
          },
          "metadata": {
            "tags": []
          },
          "execution_count": 137
        }
      ]
    },
    {
      "cell_type": "code",
      "metadata": {
        "id": "Y8ID8WqQYYEG",
        "colab_type": "code",
        "colab": {}
      },
      "source": [
        "df['HDD'] = np.where(df['Memory'].str.contains(\"HDD\"),\n",
        "                     np.where(df['Memory'].str.contains(\"GB\"),\n",
        "                              df['Memory'].str.split('GB').str[0].str[:3], \n",
        "                              (df['Memory'].str.split('TB').str[0].str[:1].astype(int))*1000),\n",
        "                     0)\n",
        "df['HDD'] = df['HDD'].astype(int)\n",
        "\n",
        "df['SSD'] = np.where(df['Memory'].str.contains(\"SSD\"),\n",
        "                     np.where(df['Memory'].str.contains(\"GB\"),\n",
        "                             df['Memory'].str.split('GB').str[0].str[:3], \n",
        "                              (df['Memory'].str.split('TB').str[0].str[:1].astype(int))*1000),\n",
        "                      0 ) \n",
        "df['SSD'] = df['SSD'].astype(int)\n",
        "\n",
        "df['Hybrid'] = np.where(df['Memory'].str.contains(\"Hybrid\"),\n",
        "                     np.where(df['Memory'].str.contains(\"GB\"), df['Memory'].str.split('GB').str[0].str[:3], 1000),\n",
        "                     0)\n",
        "df['Hybrid'] = df['Hybrid'].astype(int)\n",
        "\n",
        "df['Flash'] = np.where(df['Memory'].str.contains(\"Flash\"),\n",
        "                     np.where(df['Memory'].str.contains(\"GB\"), df['Memory'].str.split('GB').str[0].str[:3], 1000),\n",
        "                     0)\n",
        "df['Flash'] = df['Flash'].astype(int)\n"
      ],
      "execution_count": 138,
      "outputs": []
    },
    {
      "cell_type": "code",
      "metadata": {
        "id": "Ij3kTnR7l3m3",
        "colab_type": "code",
        "colab": {
          "base_uri": "https://localhost:8080/",
          "height": 391
        },
        "outputId": "789177d9-0475-4d13-9038-53e87350222b"
      },
      "source": [
        "df[['Memory', 'SSD', 'HDD', 'Hybrid', 'Flash']]"
      ],
      "execution_count": 139,
      "outputs": [
        {
          "output_type": "execute_result",
          "data": {
            "text/html": [
              "<div>\n",
              "<style scoped>\n",
              "    .dataframe tbody tr th:only-of-type {\n",
              "        vertical-align: middle;\n",
              "    }\n",
              "\n",
              "    .dataframe tbody tr th {\n",
              "        vertical-align: top;\n",
              "    }\n",
              "\n",
              "    .dataframe thead th {\n",
              "        text-align: right;\n",
              "    }\n",
              "</style>\n",
              "<table border=\"1\" class=\"dataframe\">\n",
              "  <thead>\n",
              "    <tr style=\"text-align: right;\">\n",
              "      <th></th>\n",
              "      <th>Memory</th>\n",
              "      <th>SSD</th>\n",
              "      <th>HDD</th>\n",
              "      <th>Hybrid</th>\n",
              "      <th>Flash</th>\n",
              "    </tr>\n",
              "  </thead>\n",
              "  <tbody>\n",
              "    <tr>\n",
              "      <th>0</th>\n",
              "      <td>128GB SSD</td>\n",
              "      <td>128</td>\n",
              "      <td>0</td>\n",
              "      <td>0</td>\n",
              "      <td>0</td>\n",
              "    </tr>\n",
              "    <tr>\n",
              "      <th>1</th>\n",
              "      <td>128GB Flash Storage</td>\n",
              "      <td>0</td>\n",
              "      <td>0</td>\n",
              "      <td>0</td>\n",
              "      <td>128</td>\n",
              "    </tr>\n",
              "    <tr>\n",
              "      <th>2</th>\n",
              "      <td>256GB SSD</td>\n",
              "      <td>256</td>\n",
              "      <td>0</td>\n",
              "      <td>0</td>\n",
              "      <td>0</td>\n",
              "    </tr>\n",
              "    <tr>\n",
              "      <th>3</th>\n",
              "      <td>512GB SSD</td>\n",
              "      <td>512</td>\n",
              "      <td>0</td>\n",
              "      <td>0</td>\n",
              "      <td>0</td>\n",
              "    </tr>\n",
              "    <tr>\n",
              "      <th>4</th>\n",
              "      <td>256GB SSD</td>\n",
              "      <td>256</td>\n",
              "      <td>0</td>\n",
              "      <td>0</td>\n",
              "      <td>0</td>\n",
              "    </tr>\n",
              "    <tr>\n",
              "      <th>...</th>\n",
              "      <td>...</td>\n",
              "      <td>...</td>\n",
              "      <td>...</td>\n",
              "      <td>...</td>\n",
              "      <td>...</td>\n",
              "    </tr>\n",
              "    <tr>\n",
              "      <th>1298</th>\n",
              "      <td>128GB SSD</td>\n",
              "      <td>128</td>\n",
              "      <td>0</td>\n",
              "      <td>0</td>\n",
              "      <td>0</td>\n",
              "    </tr>\n",
              "    <tr>\n",
              "      <th>1299</th>\n",
              "      <td>512GB SSD</td>\n",
              "      <td>512</td>\n",
              "      <td>0</td>\n",
              "      <td>0</td>\n",
              "      <td>0</td>\n",
              "    </tr>\n",
              "    <tr>\n",
              "      <th>1300</th>\n",
              "      <td>64GB Flash Storage</td>\n",
              "      <td>0</td>\n",
              "      <td>0</td>\n",
              "      <td>0</td>\n",
              "      <td>64</td>\n",
              "    </tr>\n",
              "    <tr>\n",
              "      <th>1301</th>\n",
              "      <td>1TB HDD</td>\n",
              "      <td>0</td>\n",
              "      <td>1000</td>\n",
              "      <td>0</td>\n",
              "      <td>0</td>\n",
              "    </tr>\n",
              "    <tr>\n",
              "      <th>1302</th>\n",
              "      <td>500GB HDD</td>\n",
              "      <td>0</td>\n",
              "      <td>500</td>\n",
              "      <td>0</td>\n",
              "      <td>0</td>\n",
              "    </tr>\n",
              "  </tbody>\n",
              "</table>\n",
              "<p>1303 rows × 5 columns</p>\n",
              "</div>"
            ],
            "text/plain": [
              "                   Memory  SSD   HDD  Hybrid  Flash\n",
              "0               128GB SSD  128     0       0      0\n",
              "1     128GB Flash Storage    0     0       0    128\n",
              "2               256GB SSD  256     0       0      0\n",
              "3               512GB SSD  512     0       0      0\n",
              "4               256GB SSD  256     0       0      0\n",
              "...                   ...  ...   ...     ...    ...\n",
              "1298            128GB SSD  128     0       0      0\n",
              "1299            512GB SSD  512     0       0      0\n",
              "1300   64GB Flash Storage    0     0       0     64\n",
              "1301              1TB HDD    0  1000       0      0\n",
              "1302            500GB HDD    0   500       0      0\n",
              "\n",
              "[1303 rows x 5 columns]"
            ]
          },
          "metadata": {
            "tags": []
          },
          "execution_count": 139
        }
      ]
    },
    {
      "cell_type": "code",
      "metadata": {
        "id": "a5JQYF_gsm8d",
        "colab_type": "code",
        "colab": {
          "base_uri": "https://localhost:8080/",
          "height": 931
        },
        "outputId": "9e9e1b6c-ce11-444c-a6c9-243d92341050"
      },
      "source": [
        "df['Ram1'] = df.Ram.str[:-2].astype(int)\n",
        "df['Weight1'] = df['Weight'].str[:-2].astype(float)\n",
        "df"
      ],
      "execution_count": 140,
      "outputs": [
        {
          "output_type": "execute_result",
          "data": {
            "text/html": [
              "<div>\n",
              "<style scoped>\n",
              "    .dataframe tbody tr th:only-of-type {\n",
              "        vertical-align: middle;\n",
              "    }\n",
              "\n",
              "    .dataframe tbody tr th {\n",
              "        vertical-align: top;\n",
              "    }\n",
              "\n",
              "    .dataframe thead th {\n",
              "        text-align: right;\n",
              "    }\n",
              "</style>\n",
              "<table border=\"1\" class=\"dataframe\">\n",
              "  <thead>\n",
              "    <tr style=\"text-align: right;\">\n",
              "      <th></th>\n",
              "      <th>Company</th>\n",
              "      <th>Product</th>\n",
              "      <th>TypeName</th>\n",
              "      <th>Inches</th>\n",
              "      <th>ScreenResolution</th>\n",
              "      <th>Cpu</th>\n",
              "      <th>Ram</th>\n",
              "      <th>Memory</th>\n",
              "      <th>Gpu</th>\n",
              "      <th>OpSys</th>\n",
              "      <th>Weight</th>\n",
              "      <th>Price_euros</th>\n",
              "      <th>resolution</th>\n",
              "      <th>resolution1</th>\n",
              "      <th>resolution2</th>\n",
              "      <th>IPS</th>\n",
              "      <th>TouchScreen</th>\n",
              "      <th>CPU</th>\n",
              "      <th>HDD</th>\n",
              "      <th>SSD</th>\n",
              "      <th>Hybrid</th>\n",
              "      <th>Flash</th>\n",
              "      <th>Ram1</th>\n",
              "      <th>Weight1</th>\n",
              "    </tr>\n",
              "  </thead>\n",
              "  <tbody>\n",
              "    <tr>\n",
              "      <th>0</th>\n",
              "      <td>Apple</td>\n",
              "      <td>MacBook Pro</td>\n",
              "      <td>Ultrabook</td>\n",
              "      <td>13.3</td>\n",
              "      <td>IPS Panel Retina Display 2560x1600</td>\n",
              "      <td>Intel Core i5 2.3GHz</td>\n",
              "      <td>8GB</td>\n",
              "      <td>128GB SSD</td>\n",
              "      <td>Intel Iris Plus Graphics 640</td>\n",
              "      <td>macOS</td>\n",
              "      <td>1.37kg</td>\n",
              "      <td>1339.69</td>\n",
              "      <td>4096000</td>\n",
              "      <td>2560</td>\n",
              "      <td>1600</td>\n",
              "      <td>1</td>\n",
              "      <td>0</td>\n",
              "      <td>Intel Core i5</td>\n",
              "      <td>0</td>\n",
              "      <td>128</td>\n",
              "      <td>0</td>\n",
              "      <td>0</td>\n",
              "      <td>8</td>\n",
              "      <td>1.37</td>\n",
              "    </tr>\n",
              "    <tr>\n",
              "      <th>1</th>\n",
              "      <td>Apple</td>\n",
              "      <td>Macbook Air</td>\n",
              "      <td>Ultrabook</td>\n",
              "      <td>13.3</td>\n",
              "      <td>1440x900</td>\n",
              "      <td>Intel Core i5 1.8GHz</td>\n",
              "      <td>8GB</td>\n",
              "      <td>128GB Flash Storage</td>\n",
              "      <td>Intel HD Graphics 6000</td>\n",
              "      <td>macOS</td>\n",
              "      <td>1.34kg</td>\n",
              "      <td>898.94</td>\n",
              "      <td>1296000</td>\n",
              "      <td>1440</td>\n",
              "      <td>900</td>\n",
              "      <td>0</td>\n",
              "      <td>0</td>\n",
              "      <td>Intel Core i5</td>\n",
              "      <td>0</td>\n",
              "      <td>0</td>\n",
              "      <td>0</td>\n",
              "      <td>128</td>\n",
              "      <td>8</td>\n",
              "      <td>1.34</td>\n",
              "    </tr>\n",
              "    <tr>\n",
              "      <th>2</th>\n",
              "      <td>HP</td>\n",
              "      <td>250 G6</td>\n",
              "      <td>Notebook</td>\n",
              "      <td>15.6</td>\n",
              "      <td>Full HD 1920x1080</td>\n",
              "      <td>Intel Core i5 7200U 2.5GHz</td>\n",
              "      <td>8GB</td>\n",
              "      <td>256GB SSD</td>\n",
              "      <td>Intel HD Graphics 620</td>\n",
              "      <td>No OS</td>\n",
              "      <td>1.86kg</td>\n",
              "      <td>575.00</td>\n",
              "      <td>2073600</td>\n",
              "      <td>1920</td>\n",
              "      <td>1080</td>\n",
              "      <td>0</td>\n",
              "      <td>0</td>\n",
              "      <td>Intel Core i5</td>\n",
              "      <td>0</td>\n",
              "      <td>256</td>\n",
              "      <td>0</td>\n",
              "      <td>0</td>\n",
              "      <td>8</td>\n",
              "      <td>1.86</td>\n",
              "    </tr>\n",
              "    <tr>\n",
              "      <th>3</th>\n",
              "      <td>Apple</td>\n",
              "      <td>MacBook Pro</td>\n",
              "      <td>Ultrabook</td>\n",
              "      <td>15.4</td>\n",
              "      <td>IPS Panel Retina Display 2880x1800</td>\n",
              "      <td>Intel Core i7 2.7GHz</td>\n",
              "      <td>16GB</td>\n",
              "      <td>512GB SSD</td>\n",
              "      <td>AMD Radeon Pro 455</td>\n",
              "      <td>macOS</td>\n",
              "      <td>1.83kg</td>\n",
              "      <td>2537.45</td>\n",
              "      <td>5184000</td>\n",
              "      <td>2880</td>\n",
              "      <td>1800</td>\n",
              "      <td>1</td>\n",
              "      <td>0</td>\n",
              "      <td>Intel Core i7</td>\n",
              "      <td>0</td>\n",
              "      <td>512</td>\n",
              "      <td>0</td>\n",
              "      <td>0</td>\n",
              "      <td>16</td>\n",
              "      <td>1.83</td>\n",
              "    </tr>\n",
              "    <tr>\n",
              "      <th>4</th>\n",
              "      <td>Apple</td>\n",
              "      <td>MacBook Pro</td>\n",
              "      <td>Ultrabook</td>\n",
              "      <td>13.3</td>\n",
              "      <td>IPS Panel Retina Display 2560x1600</td>\n",
              "      <td>Intel Core i5 3.1GHz</td>\n",
              "      <td>8GB</td>\n",
              "      <td>256GB SSD</td>\n",
              "      <td>Intel Iris Plus Graphics 650</td>\n",
              "      <td>macOS</td>\n",
              "      <td>1.37kg</td>\n",
              "      <td>1803.60</td>\n",
              "      <td>4096000</td>\n",
              "      <td>2560</td>\n",
              "      <td>1600</td>\n",
              "      <td>1</td>\n",
              "      <td>0</td>\n",
              "      <td>Intel Core i5</td>\n",
              "      <td>0</td>\n",
              "      <td>256</td>\n",
              "      <td>0</td>\n",
              "      <td>0</td>\n",
              "      <td>8</td>\n",
              "      <td>1.37</td>\n",
              "    </tr>\n",
              "    <tr>\n",
              "      <th>...</th>\n",
              "      <td>...</td>\n",
              "      <td>...</td>\n",
              "      <td>...</td>\n",
              "      <td>...</td>\n",
              "      <td>...</td>\n",
              "      <td>...</td>\n",
              "      <td>...</td>\n",
              "      <td>...</td>\n",
              "      <td>...</td>\n",
              "      <td>...</td>\n",
              "      <td>...</td>\n",
              "      <td>...</td>\n",
              "      <td>...</td>\n",
              "      <td>...</td>\n",
              "      <td>...</td>\n",
              "      <td>...</td>\n",
              "      <td>...</td>\n",
              "      <td>...</td>\n",
              "      <td>...</td>\n",
              "      <td>...</td>\n",
              "      <td>...</td>\n",
              "      <td>...</td>\n",
              "      <td>...</td>\n",
              "      <td>...</td>\n",
              "    </tr>\n",
              "    <tr>\n",
              "      <th>1298</th>\n",
              "      <td>Lenovo</td>\n",
              "      <td>Yoga 500-14ISK</td>\n",
              "      <td>2 in 1 Convertible</td>\n",
              "      <td>14.0</td>\n",
              "      <td>IPS Panel Full HD / Touchscreen 1920x1080</td>\n",
              "      <td>Intel Core i7 6500U 2.5GHz</td>\n",
              "      <td>4GB</td>\n",
              "      <td>128GB SSD</td>\n",
              "      <td>Intel HD Graphics 520</td>\n",
              "      <td>Windows 10</td>\n",
              "      <td>1.8kg</td>\n",
              "      <td>638.00</td>\n",
              "      <td>2073600</td>\n",
              "      <td>1920</td>\n",
              "      <td>1080</td>\n",
              "      <td>1</td>\n",
              "      <td>1</td>\n",
              "      <td>Intel Core i7</td>\n",
              "      <td>0</td>\n",
              "      <td>128</td>\n",
              "      <td>0</td>\n",
              "      <td>0</td>\n",
              "      <td>4</td>\n",
              "      <td>1.80</td>\n",
              "    </tr>\n",
              "    <tr>\n",
              "      <th>1299</th>\n",
              "      <td>Lenovo</td>\n",
              "      <td>Yoga 900-13ISK</td>\n",
              "      <td>2 in 1 Convertible</td>\n",
              "      <td>13.3</td>\n",
              "      <td>IPS Panel Quad HD+ / Touchscreen 3200x1800</td>\n",
              "      <td>Intel Core i7 6500U 2.5GHz</td>\n",
              "      <td>16GB</td>\n",
              "      <td>512GB SSD</td>\n",
              "      <td>Intel HD Graphics 520</td>\n",
              "      <td>Windows 10</td>\n",
              "      <td>1.3kg</td>\n",
              "      <td>1499.00</td>\n",
              "      <td>5760000</td>\n",
              "      <td>3200</td>\n",
              "      <td>1800</td>\n",
              "      <td>1</td>\n",
              "      <td>1</td>\n",
              "      <td>Intel Core i7</td>\n",
              "      <td>0</td>\n",
              "      <td>512</td>\n",
              "      <td>0</td>\n",
              "      <td>0</td>\n",
              "      <td>16</td>\n",
              "      <td>1.30</td>\n",
              "    </tr>\n",
              "    <tr>\n",
              "      <th>1300</th>\n",
              "      <td>Lenovo</td>\n",
              "      <td>IdeaPad 100S-14IBR</td>\n",
              "      <td>Notebook</td>\n",
              "      <td>14.0</td>\n",
              "      <td>1366x768</td>\n",
              "      <td>Intel Celeron Dual Core N3050 1.6GHz</td>\n",
              "      <td>2GB</td>\n",
              "      <td>64GB Flash Storage</td>\n",
              "      <td>Intel HD Graphics</td>\n",
              "      <td>Windows 10</td>\n",
              "      <td>1.5kg</td>\n",
              "      <td>229.00</td>\n",
              "      <td>1049088</td>\n",
              "      <td>1366</td>\n",
              "      <td>768</td>\n",
              "      <td>0</td>\n",
              "      <td>0</td>\n",
              "      <td>Intel Celeron</td>\n",
              "      <td>0</td>\n",
              "      <td>0</td>\n",
              "      <td>0</td>\n",
              "      <td>64</td>\n",
              "      <td>2</td>\n",
              "      <td>1.50</td>\n",
              "    </tr>\n",
              "    <tr>\n",
              "      <th>1301</th>\n",
              "      <td>HP</td>\n",
              "      <td>15-AC110nv (i7-6500U/6GB/1TB/Radeon</td>\n",
              "      <td>Notebook</td>\n",
              "      <td>15.6</td>\n",
              "      <td>1366x768</td>\n",
              "      <td>Intel Core i7 6500U 2.5GHz</td>\n",
              "      <td>6GB</td>\n",
              "      <td>1TB HDD</td>\n",
              "      <td>AMD Radeon R5 M330</td>\n",
              "      <td>Windows 10</td>\n",
              "      <td>2.19kg</td>\n",
              "      <td>764.00</td>\n",
              "      <td>1049088</td>\n",
              "      <td>1366</td>\n",
              "      <td>768</td>\n",
              "      <td>0</td>\n",
              "      <td>0</td>\n",
              "      <td>Intel Core i7</td>\n",
              "      <td>1000</td>\n",
              "      <td>0</td>\n",
              "      <td>0</td>\n",
              "      <td>0</td>\n",
              "      <td>6</td>\n",
              "      <td>2.19</td>\n",
              "    </tr>\n",
              "    <tr>\n",
              "      <th>1302</th>\n",
              "      <td>Asus</td>\n",
              "      <td>X553SA-XX031T (N3050/4GB/500GB/W10)</td>\n",
              "      <td>Notebook</td>\n",
              "      <td>15.6</td>\n",
              "      <td>1366x768</td>\n",
              "      <td>Intel Celeron Dual Core N3050 1.6GHz</td>\n",
              "      <td>4GB</td>\n",
              "      <td>500GB HDD</td>\n",
              "      <td>Intel HD Graphics</td>\n",
              "      <td>Windows 10</td>\n",
              "      <td>2.2kg</td>\n",
              "      <td>369.00</td>\n",
              "      <td>1049088</td>\n",
              "      <td>1366</td>\n",
              "      <td>768</td>\n",
              "      <td>0</td>\n",
              "      <td>0</td>\n",
              "      <td>Intel Celeron</td>\n",
              "      <td>500</td>\n",
              "      <td>0</td>\n",
              "      <td>0</td>\n",
              "      <td>0</td>\n",
              "      <td>4</td>\n",
              "      <td>2.20</td>\n",
              "    </tr>\n",
              "  </tbody>\n",
              "</table>\n",
              "<p>1303 rows × 24 columns</p>\n",
              "</div>"
            ],
            "text/plain": [
              "     Company                              Product  ... Ram1  Weight1\n",
              "0      Apple                          MacBook Pro  ...    8     1.37\n",
              "1      Apple                          Macbook Air  ...    8     1.34\n",
              "2         HP                               250 G6  ...    8     1.86\n",
              "3      Apple                          MacBook Pro  ...   16     1.83\n",
              "4      Apple                          MacBook Pro  ...    8     1.37\n",
              "...      ...                                  ...  ...  ...      ...\n",
              "1298  Lenovo                       Yoga 500-14ISK  ...    4     1.80\n",
              "1299  Lenovo                       Yoga 900-13ISK  ...   16     1.30\n",
              "1300  Lenovo                   IdeaPad 100S-14IBR  ...    2     1.50\n",
              "1301      HP  15-AC110nv (i7-6500U/6GB/1TB/Radeon  ...    6     2.19\n",
              "1302    Asus  X553SA-XX031T (N3050/4GB/500GB/W10)  ...    4     2.20\n",
              "\n",
              "[1303 rows x 24 columns]"
            ]
          },
          "metadata": {
            "tags": []
          },
          "execution_count": 140
        }
      ]
    },
    {
      "cell_type": "code",
      "metadata": {
        "id": "lpXzVP_cuRpU",
        "colab_type": "code",
        "colab": {
          "base_uri": "https://localhost:8080/",
          "height": 391
        },
        "outputId": "b353ea1b-fe0c-4e20-e8de-51ee5aa84f80"
      },
      "source": [
        "#drop those temp and processed columns\n",
        "#product name also get drop as it doesnt provide any additional information\n",
        "df1 = df.drop([ 'ScreenResolution','Cpu','Ram', 'Memory', 'Weight', 'resolution1', 'resolution2', 'Product'], axis = 1 )\n",
        "df1.info()"
      ],
      "execution_count": 334,
      "outputs": [
        {
          "output_type": "stream",
          "text": [
            "<class 'pandas.core.frame.DataFrame'>\n",
            "RangeIndex: 1303 entries, 0 to 1302\n",
            "Data columns (total 16 columns):\n",
            " #   Column       Non-Null Count  Dtype  \n",
            "---  ------       --------------  -----  \n",
            " 0   Company      1303 non-null   object \n",
            " 1   TypeName     1303 non-null   object \n",
            " 2   Inches       1303 non-null   float64\n",
            " 3   Gpu          1303 non-null   object \n",
            " 4   OpSys        1303 non-null   object \n",
            " 5   Price_euros  1303 non-null   float64\n",
            " 6   resolution   1303 non-null   int64  \n",
            " 7   IPS          1303 non-null   int64  \n",
            " 8   TouchScreen  1303 non-null   int64  \n",
            " 9   CPU          1303 non-null   object \n",
            " 10  HDD          1303 non-null   int64  \n",
            " 11  SSD          1303 non-null   int64  \n",
            " 12  Hybrid       1303 non-null   int64  \n",
            " 13  Flash        1303 non-null   int64  \n",
            " 14  Ram1         1303 non-null   int64  \n",
            " 15  Weight1      1303 non-null   float64\n",
            "dtypes: float64(3), int64(8), object(5)\n",
            "memory usage: 163.0+ KB\n"
          ],
          "name": "stdout"
        }
      ]
    },
    {
      "cell_type": "code",
      "metadata": {
        "id": "g19LD-g_T3Cn",
        "colab_type": "code",
        "colab": {}
      },
      "source": [
        "\n",
        "##df1 = pd.concat([\n",
        "#        df1.select_dtypes([], ['object']),\n",
        "   #     df1.select_dtypes(['object']).apply(pd.Series.astype, dtype='float')\n",
        "    #    ], axis=1)\n"
      ],
      "execution_count": 270,
      "outputs": []
    },
    {
      "cell_type": "code",
      "metadata": {
        "id": "8FX3zpmlypHT",
        "colab_type": "code",
        "colab": {}
      },
      "source": [
        "from sklearn import preprocessing\n",
        "le = preprocessing.LabelEncoder()\n",
        "\n",
        "categorical_cols = df1.columns[df1.dtypes==object].tolist()\n",
        "df1[categorical_cols] = df1[categorical_cols].apply(lambda col: le.fit_transform(col))\n",
        "# this method is quick but may not be the best one as it may not represent the information of the categorical attribute with this method\n"
      ],
      "execution_count": 335,
      "outputs": []
    },
    {
      "cell_type": "code",
      "metadata": {
        "id": "mZYo1H3nOXp4",
        "colab_type": "code",
        "colab": {
          "base_uri": "https://localhost:8080/",
          "height": 322
        },
        "outputId": "b3bd301d-dcc5-4c39-9a49-ba9da3c5f42b"
      },
      "source": [
        "corr = df1.corr()\n",
        "sns.heatmap(corr, \n",
        "        xticklabels=corr.columns,\n",
        "        yticklabels=corr.columns)\n",
        "df2 = df1\n",
        "#save a copy of data for other analysis"
      ],
      "execution_count": 211,
      "outputs": [
        {
          "output_type": "display_data",
          "data": {
            "image/png": "[encoded data removed]",
            "text/plain": [
              "<Figure size 432x288 with 2 Axes>"
            ]
          },
          "metadata": {
            "tags": [],
            "needs_background": "light"
          }
        }
      ]
    },
    {
      "cell_type": "code",
      "metadata": {
        "id": "CHAEzGilwI1g",
        "colab_type": "code",
        "colab": {
          "base_uri": "https://localhost:8080/",
          "height": 607
        },
        "outputId": "10f7fdbc-4051-457b-94e3-3ef0a4e9da59"
      },
      "source": [
        "\n",
        "\n",
        "\n",
        "fig, axes = plt.subplots(len(df1.columns)//4, 4, figsize=(10,10))\n",
        "\n",
        "i = 0\n",
        "for triaxis in axes:\n",
        "    for axis in triaxis:\n",
        "        df1.hist(column = df1.columns[i], ax=axis)\n",
        "        i = i+1"
      ],
      "execution_count": 305,
      "outputs": [
        {
          "output_type": "display_data",
          "data": {
            "image/png": "[encoded data removed]",
            "text/plain": [
              "<Figure size 720x720 with 16 Axes>"
            ]
          },
          "metadata": {
            "tags": [],
            "needs_background": "light"
          }
        }
      ]
    },
    {
      "cell_type": "code",
      "metadata": {
        "id": "V_hVaTUPZrvS",
        "colab_type": "code",
        "colab": {
          "base_uri": "https://localhost:8080/",
          "height": 297
        },
        "outputId": "adc517bd-7168-4e65-db3a-5b54dd39e9cc"
      },
      "source": [
        "df1.describe()"
      ],
      "execution_count": 249,
      "outputs": [
        {
          "output_type": "execute_result",
          "data": {
            "text/html": [
              "<div>\n",
              "<style scoped>\n",
              "    .dataframe tbody tr th:only-of-type {\n",
              "        vertical-align: middle;\n",
              "    }\n",
              "\n",
              "    .dataframe tbody tr th {\n",
              "        vertical-align: top;\n",
              "    }\n",
              "\n",
              "    .dataframe thead th {\n",
              "        text-align: right;\n",
              "    }\n",
              "</style>\n",
              "<table border=\"1\" class=\"dataframe\">\n",
              "  <thead>\n",
              "    <tr style=\"text-align: right;\">\n",
              "      <th></th>\n",
              "      <th>Company</th>\n",
              "      <th>TypeName</th>\n",
              "      <th>Inches</th>\n",
              "      <th>Gpu</th>\n",
              "      <th>OpSys</th>\n",
              "      <th>Price_euros</th>\n",
              "      <th>resolution</th>\n",
              "      <th>IPS</th>\n",
              "      <th>TouchScreen</th>\n",
              "      <th>CPU</th>\n",
              "      <th>HDD</th>\n",
              "      <th>SSD</th>\n",
              "      <th>Hybrid</th>\n",
              "      <th>Flash</th>\n",
              "      <th>Ram1</th>\n",
              "      <th>Weight1</th>\n",
              "    </tr>\n",
              "  </thead>\n",
              "  <tbody>\n",
              "    <tr>\n",
              "      <th>count</th>\n",
              "      <td>1303.000000</td>\n",
              "      <td>1303.000000</td>\n",
              "      <td>1303.000000</td>\n",
              "      <td>1303.000000</td>\n",
              "      <td>1303.000000</td>\n",
              "      <td>1303.000000</td>\n",
              "      <td>1.303000e+03</td>\n",
              "      <td>1303.000000</td>\n",
              "      <td>1303.000000</td>\n",
              "      <td>1303.000000</td>\n",
              "      <td>1303.000000</td>\n",
              "      <td>1303.000000</td>\n",
              "      <td>1303.000000</td>\n",
              "      <td>1303.000000</td>\n",
              "      <td>1303.000000</td>\n",
              "      <td>1303.000000</td>\n",
              "    </tr>\n",
              "    <tr>\n",
              "      <th>mean</th>\n",
              "      <td>6.442824</td>\n",
              "      <td>2.582502</td>\n",
              "      <td>15.017191</td>\n",
              "      <td>54.682272</td>\n",
              "      <td>4.808903</td>\n",
              "      <td>1123.686992</td>\n",
              "      <td>2.168807e+06</td>\n",
              "      <td>0.280123</td>\n",
              "      <td>0.147352</td>\n",
              "      <td>12.067536</td>\n",
              "      <td>282.406754</td>\n",
              "      <td>182.750576</td>\n",
              "      <td>7.886416</td>\n",
              "      <td>4.555641</td>\n",
              "      <td>8.382195</td>\n",
              "      <td>2.038734</td>\n",
              "    </tr>\n",
              "    <tr>\n",
              "      <th>std</th>\n",
              "      <td>4.084128</td>\n",
              "      <td>1.245231</td>\n",
              "      <td>1.426304</td>\n",
              "      <td>21.623195</td>\n",
              "      <td>1.035253</td>\n",
              "      <td>699.009043</td>\n",
              "      <td>1.391292e+06</td>\n",
              "      <td>0.449231</td>\n",
              "      <td>0.354593</td>\n",
              "      <td>2.266780</td>\n",
              "      <td>421.851734</td>\n",
              "      <td>184.822109</td>\n",
              "      <td>85.440501</td>\n",
              "      <td>30.274090</td>\n",
              "      <td>5.084665</td>\n",
              "      <td>0.665475</td>\n",
              "    </tr>\n",
              "    <tr>\n",
              "      <th>min</th>\n",
              "      <td>0.000000</td>\n",
              "      <td>0.000000</td>\n",
              "      <td>10.100000</td>\n",
              "      <td>0.000000</td>\n",
              "      <td>0.000000</td>\n",
              "      <td>174.000000</td>\n",
              "      <td>1.049088e+06</td>\n",
              "      <td>0.000000</td>\n",
              "      <td>0.000000</td>\n",
              "      <td>0.000000</td>\n",
              "      <td>0.000000</td>\n",
              "      <td>0.000000</td>\n",
              "      <td>0.000000</td>\n",
              "      <td>0.000000</td>\n",
              "      <td>2.000000</td>\n",
              "      <td>0.690000</td>\n",
              "    </tr>\n",
              "    <tr>\n",
              "      <th>25%</th>\n",
              "      <td>4.000000</td>\n",
              "      <td>1.500000</td>\n",
              "      <td>14.000000</td>\n",
              "      <td>46.000000</td>\n",
              "      <td>5.000000</td>\n",
              "      <td>599.000000</td>\n",
              "      <td>1.440000e+06</td>\n",
              "      <td>0.000000</td>\n",
              "      <td>0.000000</td>\n",
              "      <td>12.000000</td>\n",
              "      <td>0.000000</td>\n",
              "      <td>0.000000</td>\n",
              "      <td>0.000000</td>\n",
              "      <td>0.000000</td>\n",
              "      <td>4.000000</td>\n",
              "      <td>1.500000</td>\n",
              "    </tr>\n",
              "    <tr>\n",
              "      <th>50%</th>\n",
              "      <td>7.000000</td>\n",
              "      <td>3.000000</td>\n",
              "      <td>15.600000</td>\n",
              "      <td>53.000000</td>\n",
              "      <td>5.000000</td>\n",
              "      <td>977.000000</td>\n",
              "      <td>2.073600e+06</td>\n",
              "      <td>0.000000</td>\n",
              "      <td>0.000000</td>\n",
              "      <td>12.000000</td>\n",
              "      <td>0.000000</td>\n",
              "      <td>256.000000</td>\n",
              "      <td>0.000000</td>\n",
              "      <td>0.000000</td>\n",
              "      <td>8.000000</td>\n",
              "      <td>2.040000</td>\n",
              "    </tr>\n",
              "    <tr>\n",
              "      <th>75%</th>\n",
              "      <td>10.000000</td>\n",
              "      <td>3.000000</td>\n",
              "      <td>15.600000</td>\n",
              "      <td>72.000000</td>\n",
              "      <td>5.000000</td>\n",
              "      <td>1487.880000</td>\n",
              "      <td>2.073600e+06</td>\n",
              "      <td>1.000000</td>\n",
              "      <td>0.000000</td>\n",
              "      <td>13.000000</td>\n",
              "      <td>500.000000</td>\n",
              "      <td>256.000000</td>\n",
              "      <td>0.000000</td>\n",
              "      <td>0.000000</td>\n",
              "      <td>8.000000</td>\n",
              "      <td>2.300000</td>\n",
              "    </tr>\n",
              "    <tr>\n",
              "      <th>max</th>\n",
              "      <td>18.000000</td>\n",
              "      <td>5.000000</td>\n",
              "      <td>18.400000</td>\n",
              "      <td>109.000000</td>\n",
              "      <td>8.000000</td>\n",
              "      <td>6099.000000</td>\n",
              "      <td>8.294400e+06</td>\n",
              "      <td>1.000000</td>\n",
              "      <td>1.000000</td>\n",
              "      <td>19.000000</td>\n",
              "      <td>2000.000000</td>\n",
              "      <td>1000.000000</td>\n",
              "      <td>1000.000000</td>\n",
              "      <td>512.000000</td>\n",
              "      <td>64.000000</td>\n",
              "      <td>4.700000</td>\n",
              "    </tr>\n",
              "  </tbody>\n",
              "</table>\n",
              "</div>"
            ],
            "text/plain": [
              "           Company     TypeName  ...         Ram1      Weight1\n",
              "count  1303.000000  1303.000000  ...  1303.000000  1303.000000\n",
              "mean      6.442824     2.582502  ...     8.382195     2.038734\n",
              "std       4.084128     1.245231  ...     5.084665     0.665475\n",
              "min       0.000000     0.000000  ...     2.000000     0.690000\n",
              "25%       4.000000     1.500000  ...     4.000000     1.500000\n",
              "50%       7.000000     3.000000  ...     8.000000     2.040000\n",
              "75%      10.000000     3.000000  ...     8.000000     2.300000\n",
              "max      18.000000     5.000000  ...    64.000000     4.700000\n",
              "\n",
              "[8 rows x 16 columns]"
            ]
          },
          "metadata": {
            "tags": []
          },
          "execution_count": 249
        }
      ]
    },
    {
      "cell_type": "code",
      "metadata": {
        "id": "pIYYACfeY4NK",
        "colab_type": "code",
        "colab": {
          "base_uri": "https://localhost:8080/",
          "height": 341
        },
        "outputId": "c20c63c4-99f5-4a0e-8ad9-4ec744af1d02"
      },
      "source": [
        "sns.distplot(df1.Ram1)\n",
        "df1ram = df1.loc[(df1['Ram1'] > 32)]\n",
        "\n",
        "df1.iloc[(df1ram.index)]\n",
        "\n",
        "#outlier with ram over 32 "
      ],
      "execution_count": 336,
      "outputs": [
        {
          "output_type": "execute_result",
          "data": {
            "text/html": [
              "<div>\n",
              "<style scoped>\n",
              "    .dataframe tbody tr th:only-of-type {\n",
              "        vertical-align: middle;\n",
              "    }\n",
              "\n",
              "    .dataframe tbody tr th {\n",
              "        vertical-align: top;\n",
              "    }\n",
              "\n",
              "    .dataframe thead th {\n",
              "        text-align: right;\n",
              "    }\n",
              "</style>\n",
              "<table border=\"1\" class=\"dataframe\">\n",
              "  <thead>\n",
              "    <tr style=\"text-align: right;\">\n",
              "      <th></th>\n",
              "      <th>Company</th>\n",
              "      <th>TypeName</th>\n",
              "      <th>Inches</th>\n",
              "      <th>Gpu</th>\n",
              "      <th>OpSys</th>\n",
              "      <th>Price_euros</th>\n",
              "      <th>resolution</th>\n",
              "      <th>IPS</th>\n",
              "      <th>TouchScreen</th>\n",
              "      <th>CPU</th>\n",
              "      <th>HDD</th>\n",
              "      <th>SSD</th>\n",
              "      <th>Hybrid</th>\n",
              "      <th>Flash</th>\n",
              "      <th>Ram1</th>\n",
              "      <th>Weight1</th>\n",
              "    </tr>\n",
              "  </thead>\n",
              "  <tbody>\n",
              "    <tr>\n",
              "      <th>1066</th>\n",
              "      <td>2</td>\n",
              "      <td>1</td>\n",
              "      <td>17.3</td>\n",
              "      <td>92</td>\n",
              "      <td>5</td>\n",
              "      <td>3975.0</td>\n",
              "      <td>2073600</td>\n",
              "      <td>1</td>\n",
              "      <td>0</td>\n",
              "      <td>13</td>\n",
              "      <td>0</td>\n",
              "      <td>1000</td>\n",
              "      <td>0</td>\n",
              "      <td>0</td>\n",
              "      <td>64</td>\n",
              "      <td>3.58</td>\n",
              "    </tr>\n",
              "  </tbody>\n",
              "</table>\n",
              "</div>"
            ],
            "text/plain": [
              "      Company  TypeName  Inches  Gpu  OpSys  ...   SSD  Hybrid  Flash  Ram1  Weight1\n",
              "1066        2         1    17.3   92      5  ...  1000       0      0    64     3.58\n",
              "\n",
              "[1 rows x 16 columns]"
            ]
          },
          "metadata": {
            "tags": []
          },
          "execution_count": 336
        },
        {
          "output_type": "display_data",
          "data": {
            "image/png": "[encoded data removed]",
            "text/plain": [
              "<Figure size 432x288 with 1 Axes>"
            ]
          },
          "metadata": {
            "tags": [],
            "needs_background": "light"
          }
        }
      ]
    },
    {
      "cell_type": "code",
      "metadata": {
        "id": "WJCMiuqWEvPn",
        "colab_type": "code",
        "colab": {}
      },
      "source": [
        "df1.drop([1066], inplace =  True)"
      ],
      "execution_count": 315,
      "outputs": []
    },
    {
      "cell_type": "code",
      "metadata": {
        "id": "wo6o4QqhaDWk",
        "colab_type": "code",
        "colab": {
          "base_uri": "https://localhost:8080/",
          "height": 705
        },
        "outputId": "d88f1810-bfe5-46d1-f5c3-5438341528f2"
      },
      "source": [
        "sns.distplot(df1.Price_euros)\n",
        "df1price = df1.loc[(df1['Price_euros'] >= 4000)]\n",
        "\n",
        "df.iloc[(df1price.index)]\n",
        "\n",
        "#we outlier priced over 4000 \n",
        "#upon inspection we found that the price is quite justified for the kind of specs these Item has but still quite far off from regular product"
      ],
      "execution_count": 341,
      "outputs": [
        {
          "output_type": "execute_result",
          "data": {
            "text/html": [
              "<div>\n",
              "<style scoped>\n",
              "    .dataframe tbody tr th:only-of-type {\n",
              "        vertical-align: middle;\n",
              "    }\n",
              "\n",
              "    .dataframe tbody tr th {\n",
              "        vertical-align: top;\n",
              "    }\n",
              "\n",
              "    .dataframe thead th {\n",
              "        text-align: right;\n",
              "    }\n",
              "</style>\n",
              "<table border=\"1\" class=\"dataframe\">\n",
              "  <thead>\n",
              "    <tr style=\"text-align: right;\">\n",
              "      <th></th>\n",
              "      <th>Company</th>\n",
              "      <th>Product</th>\n",
              "      <th>TypeName</th>\n",
              "      <th>Inches</th>\n",
              "      <th>ScreenResolution</th>\n",
              "      <th>Cpu</th>\n",
              "      <th>Ram</th>\n",
              "      <th>Memory</th>\n",
              "      <th>Gpu</th>\n",
              "      <th>OpSys</th>\n",
              "      <th>Weight</th>\n",
              "      <th>Price_euros</th>\n",
              "      <th>resolution</th>\n",
              "      <th>resolution1</th>\n",
              "      <th>resolution2</th>\n",
              "      <th>IPS</th>\n",
              "      <th>TouchScreen</th>\n",
              "      <th>CPU</th>\n",
              "      <th>HDD</th>\n",
              "      <th>SSD</th>\n",
              "      <th>Hybrid</th>\n",
              "      <th>Flash</th>\n",
              "      <th>Ram1</th>\n",
              "      <th>Weight1</th>\n",
              "    </tr>\n",
              "  </thead>\n",
              "  <tbody>\n",
              "    <tr>\n",
              "      <th>196</th>\n",
              "      <td>Razer</td>\n",
              "      <td>Blade Pro</td>\n",
              "      <td>Gaming</td>\n",
              "      <td>17.3</td>\n",
              "      <td>4K Ultra HD / Touchscreen 3840x2160</td>\n",
              "      <td>Intel Core i7 7820HK 2.9GHz</td>\n",
              "      <td>32GB</td>\n",
              "      <td>1TB SSD</td>\n",
              "      <td>Nvidia GeForce GTX 1080</td>\n",
              "      <td>Windows 10</td>\n",
              "      <td>3.49kg</td>\n",
              "      <td>6099.0</td>\n",
              "      <td>8294400</td>\n",
              "      <td>3840</td>\n",
              "      <td>2160</td>\n",
              "      <td>0</td>\n",
              "      <td>1</td>\n",
              "      <td>Intel Core i7</td>\n",
              "      <td>0</td>\n",
              "      <td>1000</td>\n",
              "      <td>0</td>\n",
              "      <td>0</td>\n",
              "      <td>32</td>\n",
              "      <td>3.49</td>\n",
              "    </tr>\n",
              "    <tr>\n",
              "      <th>610</th>\n",
              "      <td>Lenovo</td>\n",
              "      <td>Thinkpad P51</td>\n",
              "      <td>Notebook</td>\n",
              "      <td>15.6</td>\n",
              "      <td>IPS Panel 4K Ultra HD 3840x2160</td>\n",
              "      <td>Intel Xeon E3-1535M v6 3.1GHz</td>\n",
              "      <td>32GB</td>\n",
              "      <td>1TB SSD</td>\n",
              "      <td>Nvidia Quadro M2200M</td>\n",
              "      <td>Windows 10</td>\n",
              "      <td>2.5kg</td>\n",
              "      <td>4899.0</td>\n",
              "      <td>8294400</td>\n",
              "      <td>3840</td>\n",
              "      <td>2160</td>\n",
              "      <td>1</td>\n",
              "      <td>0</td>\n",
              "      <td>Intel Xeon</td>\n",
              "      <td>0</td>\n",
              "      <td>1000</td>\n",
              "      <td>0</td>\n",
              "      <td>0</td>\n",
              "      <td>32</td>\n",
              "      <td>2.50</td>\n",
              "    </tr>\n",
              "    <tr>\n",
              "      <th>749</th>\n",
              "      <td>HP</td>\n",
              "      <td>Zbook 17</td>\n",
              "      <td>Workstation</td>\n",
              "      <td>17.3</td>\n",
              "      <td>IPS Panel Full HD 1920x1080</td>\n",
              "      <td>Intel Xeon E3-1535M v5 2.9GHz</td>\n",
              "      <td>16GB</td>\n",
              "      <td>256GB SSD</td>\n",
              "      <td>Nvidia Quadro M2000M</td>\n",
              "      <td>Windows 7</td>\n",
              "      <td>3kg</td>\n",
              "      <td>4389.0</td>\n",
              "      <td>2073600</td>\n",
              "      <td>1920</td>\n",
              "      <td>1080</td>\n",
              "      <td>1</td>\n",
              "      <td>0</td>\n",
              "      <td>Intel Xeon</td>\n",
              "      <td>0</td>\n",
              "      <td>256</td>\n",
              "      <td>0</td>\n",
              "      <td>0</td>\n",
              "      <td>16</td>\n",
              "      <td>3.00</td>\n",
              "    </tr>\n",
              "    <tr>\n",
              "      <th>830</th>\n",
              "      <td>Razer</td>\n",
              "      <td>Blade Pro</td>\n",
              "      <td>Gaming</td>\n",
              "      <td>17.3</td>\n",
              "      <td>4K Ultra HD / Touchscreen 3840x2160</td>\n",
              "      <td>Intel Core i7 7820HK 2.9GHz</td>\n",
              "      <td>32GB</td>\n",
              "      <td>512GB SSD</td>\n",
              "      <td>Nvidia GeForce GTX 1080</td>\n",
              "      <td>Windows 10</td>\n",
              "      <td>3.49kg</td>\n",
              "      <td>5499.0</td>\n",
              "      <td>8294400</td>\n",
              "      <td>3840</td>\n",
              "      <td>2160</td>\n",
              "      <td>0</td>\n",
              "      <td>1</td>\n",
              "      <td>Intel Core i7</td>\n",
              "      <td>0</td>\n",
              "      <td>512</td>\n",
              "      <td>0</td>\n",
              "      <td>0</td>\n",
              "      <td>32</td>\n",
              "      <td>3.49</td>\n",
              "    </tr>\n",
              "  </tbody>\n",
              "</table>\n",
              "</div>"
            ],
            "text/plain": [
              "    Company       Product     TypeName  Inches  ... Hybrid Flash Ram1 Weight1\n",
              "196   Razer     Blade Pro       Gaming    17.3  ...      0     0   32    3.49\n",
              "610  Lenovo  Thinkpad P51     Notebook    15.6  ...      0     0   32    2.50\n",
              "749      HP      Zbook 17  Workstation    17.3  ...      0     0   16    3.00\n",
              "830   Razer     Blade Pro       Gaming    17.3  ...      0     0   32    3.49\n",
              "\n",
              "[4 rows x 24 columns]"
            ]
          },
          "metadata": {
            "tags": []
          },
          "execution_count": 341
        },
        {
          "output_type": "display_data",
          "data": {
            "image/png": "[encoded data removed]",
            "text/plain": [
              "<Figure size 432x288 with 1 Axes>"
            ]
          },
          "metadata": {
            "tags": [],
            "needs_background": "light"
          }
        }
      ]
    },
    {
      "cell_type": "code",
      "metadata": {
        "id": "GixOoMRaLdkI",
        "colab_type": "code",
        "colab": {}
      },
      "source": [
        "df1price.index\n",
        "df1.drop([196, 610, 749, 830], inplace=True)"
      ],
      "execution_count": 343,
      "outputs": []
    },
    {
      "cell_type": "code",
      "metadata": {
        "id": "q4yPSJXFVkm1",
        "colab_type": "code",
        "colab": {
          "base_uri": "https://localhost:8080/",
          "height": 50
        },
        "outputId": "0c3e5ea4-8363-493d-ec16-04e935a83dec"
      },
      "source": [
        "from sklearn.model_selection import train_test_split\n",
        "X = df1.loc[:, df1.columns != 'Price_euros']\n",
        "y = df1['Price_euros']\n",
        "X_train, X_test, y_train, y_test = train_test_split(X, y, test_size=0.25, random_state=123)\n",
        "print(X_train.shape)\n",
        "print(X_test.shape)\n",
        "\n"
      ],
      "execution_count": 344,
      "outputs": [
        {
          "output_type": "stream",
          "text": [
            "(974, 15)\n",
            "(325, 15)\n"
          ],
          "name": "stdout"
        }
      ]
    },
    {
      "cell_type": "code",
      "metadata": {
        "id": "TTmxlRQXUPbL",
        "colab_type": "code",
        "colab": {}
      },
      "source": [
        "from sklearn.linear_model import LinearRegression\n",
        "reg = LinearRegression()\n",
        "from sklearn.metrics import mean_squared_error\n",
        "from sklearn.metrics import max_error\n",
        "from sklearn.metrics import mean_absolute_error"
      ],
      "execution_count": 345,
      "outputs": []
    },
    {
      "cell_type": "code",
      "metadata": {
        "id": "aAX4BXpbV6GP",
        "colab_type": "code",
        "colab": {
          "base_uri": "https://localhost:8080/",
          "height": 82
        },
        "outputId": "51e95433-32e1-4d4b-f6f0-5409605c4afb"
      },
      "source": [
        "model1 = reg.fit(X_train,y_train)\n",
        "model1.score (X_test, y_test)\n",
        "predm1 = model1.predict(X_test)\n",
        "print('R2 score :', model1.score(X_test, y_test))\n",
        "print('Mean squared error: ', mean_squared_error(predm1,y_test))\n",
        "print('maxerror: ', max_error(predm1,y_test))\n",
        "print('mean absolute error : ', mean_absolute_error(predm1,y_test))\n",
        "\n"
      ],
      "execution_count": 346,
      "outputs": [
        {
          "output_type": "stream",
          "text": [
            "R2 score : 0.7665880435705977\n",
            "Mean squared error:  105124.64439286354\n",
            "maxerror:  1104.2414496684673\n",
            "mean absolute error :  254.97804172731122\n"
          ],
          "name": "stdout"
        }
      ]
    },
    {
      "cell_type": "code",
      "metadata": {
        "id": "q4bqQ3X47_xW",
        "colab_type": "code",
        "colab": {
          "base_uri": "https://localhost:8080/",
          "height": 592
        },
        "outputId": "827b019a-b93f-408f-8410-fa7a48374c79"
      },
      "source": [
        "import matplotlib.pyplot as plt\n",
        "import seaborn as sns\n",
        "\n",
        "plt.scatter( X_test['Weight1'],y_test, color='black')\n",
        "plt.scatter(X_test['Weight1'],predm1, marker = '+')\n",
        "                    \n",
        "plt.gcf().set_size_inches(20, 10)\n",
        "plt.show()\n",
        "#this was unexpectedly expected as I was expect a clear regression line show to correlation of cpu to price\n",
        "#until I realize this is one of the short fall of label encoder as I have no control of which CPU would be which labelle.inverse_transform([0, 0, 1, 2])"
      ],
      "execution_count": 347,
      "outputs": [
        {
          "output_type": "display_data",
          "data": {
            "image/png": "[encoded data removed]",
            "text/plain": [
              "<Figure size 1440x720 with 1 Axes>"
            ]
          },
          "metadata": {
            "tags": [],
            "needs_background": "light"
          }
        }
      ]
    },
    {
      "cell_type": "code",
      "metadata": {
        "id": "VRv48ifdWDBE",
        "colab_type": "code",
        "colab": {
          "base_uri": "https://localhost:8080/",
          "height": 657
        },
        "outputId": "e6ecccf0-589f-4253-d7db-af6b396aa07e"
      },
      "source": [
        "from sklearn.neighbors import KNeighborsRegressor\n",
        "knr = KNeighborsRegressor(n_neighbors=3)\n",
        "model2 = knr.fit(X_train,y_train)\n",
        "predm2 = model2.predict(X_test)\n",
        "print('R2 score :', model2.score(X_test, y_test))\n",
        "print('Mean squared error: ', mean_squared_error(predm2,y_test))\n",
        "print('maxerror: ', max_error(predm2,y_test))\n",
        "print('mean absolute error : ', mean_absolute_error(predm2,y_test))\n",
        "\n",
        "plt.scatter( X_test['Weight1'], y_test, color='black')\n",
        "plt.scatter( X_test['Weight1'], predm2, marker = '+')\n",
        "                    \n",
        "plt.gcf().set_size_inches(20, 10)\n",
        "plt.show()\n"
      ],
      "execution_count": 348,
      "outputs": [
        {
          "output_type": "stream",
          "text": [
            "R2 score : 0.7845859497060887\n",
            "Mean squared error:  97018.70367220513\n",
            "maxerror:  1498.0\n",
            "mean absolute error :  209.6649230769231\n"
          ],
          "name": "stdout"
        },
        {
          "output_type": "display_data",
          "data": {
            "image/png": "[encoded data removed]",
            "text/plain": [
              "<Figure size 1440x720 with 1 Axes>"
            ]
          },
          "metadata": {
            "tags": [],
            "needs_background": "light"
          }
        }
      ]
    },
    {
      "cell_type": "code",
      "metadata": {
        "id": "jQjJe6863Pt0",
        "colab_type": "code",
        "colab": {
          "base_uri": "https://localhost:8080/",
          "height": 657
        },
        "outputId": "86bb9ac0-14d8-4873-aef9-be7c156c272e"
      },
      "source": [
        "from sklearn.tree import DecisionTreeRegressor\n",
        "regressor = DecisionTreeRegressor(random_state=0)\n",
        "model3 = regressor.fit(X_train,y_train)\n",
        "model3.score(X_test, y_test)\n",
        "\n",
        "predm3 = model3.predict(X_test)\n",
        "print('R2 score :', model3.score(X_test, y_test))\n",
        "print('Mean squared error: ', mean_squared_error(predm3,y_test))\n",
        "print('maxerror: ', max_error(predm3,y_test))\n",
        "print('mean absolute error : ', mean_absolute_error(predm3,y_test))\n",
        "\n",
        "plt.scatter(  X_test['Weight1'],y_test, color='black')\n",
        "plt.scatter( X_test['Weight1'],predm3, marker = '+')\n",
        "                    \n",
        "plt.gcf().set_size_inches(20, 10)\n",
        "plt.show()"
      ],
      "execution_count": 349,
      "outputs": [
        {
          "output_type": "stream",
          "text": [
            "R2 score : 0.8220998716419089\n",
            "Mean squared error:  80123.09230930769\n",
            "maxerror:  1301.0\n",
            "mean absolute error :  192.47007692307693\n"
          ],
          "name": "stdout"
        },
        {
          "output_type": "display_data",
          "data": {
            "image/png": "[encoded data removed]",
            "text/plain": [
              "<Figure size 1440x720 with 1 Axes>"
            ]
          },
          "metadata": {
            "tags": [],
            "needs_background": "light"
          }
        }
      ]
    },
    {
      "cell_type": "code",
      "metadata": {
        "id": "MKaGditM787T",
        "colab_type": "code",
        "colab": {}
      },
      "source": [
        ""
      ],
      "execution_count": null,
      "outputs": []
    }
  ]
}